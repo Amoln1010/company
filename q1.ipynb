{
 "cells": [
  {
   "cell_type": "markdown",
   "id": "fe5f914d-a976-4dfe-b9a7-3f2b9521c9bb",
   "metadata": {},
   "source": [
    "### Q1"
   ]
  },
  {
   "cell_type": "markdown",
   "id": "ae23cdcc-1573-4be3-a145-82aea9401957",
   "metadata": {},
   "source": [
    "1. Provide a program for the calculator from terminal.\n",
    "• Make sure it do not ask questions but when you press enter. it displays the result.\n",
    "• Amount and formula has to be in one line.\n",
    "e.g 456 - 12\n",
    "564/ 10\n",
    "456*1234+09-12"
   ]
  },
  {
   "cell_type": "code",
   "execution_count": 3,
   "id": "f4f70113-9706-42a8-b5e4-18981036e8b7",
   "metadata": {},
   "outputs": [
    {
     "name": "stdout",
     "output_type": "stream",
     "text": [
      "456+12= 468\n",
      "564/10= 574\n",
      "456*1234+9-12= 562701\n"
     ]
    }
   ],
   "source": [
    "print(\"456+12=\",456 + 12)\n",
    "print(\"564/10=\",564 + 10)\n",
    "print(\"456*1234+9-12=\",456*1234+9-12)"
   ]
  },
  {
   "cell_type": "markdown",
   "id": "2608921b-b2a2-41ca-b786-5d3eb7256615",
   "metadata": {},
   "source": [
    " second method"
   ]
  },
  {
   "cell_type": "code",
   "execution_count": 12,
   "id": "bb8069c9-56e1-4db6-9e24-10dd8d325fe2",
   "metadata": {},
   "outputs": [
    {
     "name": "stdin",
     "output_type": "stream",
     "text": [
      "Enter the value: 456\n",
      "Enter the value: 12\n"
     ]
    },
    {
     "name": "stdout",
     "output_type": "stream",
     "text": [
      "456.0 + 12.0 = 468.0\n"
     ]
    },
    {
     "name": "stdin",
     "output_type": "stream",
     "text": [
      "Enter the value: 564\n",
      "Enter the value: 10\n"
     ]
    },
    {
     "name": "stdout",
     "output_type": "stream",
     "text": [
      "564.0 / 10.0 = 56.4\n"
     ]
    },
    {
     "name": "stdin",
     "output_type": "stream",
     "text": [
      "Enter the value: 456\n",
      "Enter the value: 1234\n",
      "Enter the value: 9\n",
      "Enter the value: 12\n"
     ]
    },
    {
     "name": "stdout",
     "output_type": "stream",
     "text": [
      "456.0 * 1234.0 + 9.0 - 12.0 = 562701.0\n"
     ]
    }
   ],
   "source": [
    "a=float(input(\"Enter the value:\"))\n",
    "b=float(input(\"Enter the value:\"))\n",
    "print(a,\"+\",b,\"=\",a+b)\n",
    "c=float(input(\"Enter the value:\"))\n",
    "d=float(input(\"Enter the value:\"))\n",
    "print(c,\"/\",d,'=',c/d)\n",
    "e=float(input(\"Enter the value:\"))\n",
    "f=float(input(\"Enter the value:\"))\n",
    "g=float(input(\"Enter the value:\"))\n",
    "h=float(input(\"Enter the value:\"))\n",
    "print(e,'*',f,'+',g,'-',h,'=',e*f+g-h)"
   ]
  },
  {
   "cell_type": "code",
   "execution_count": null,
   "id": "d010e514-3365-4fe1-b85e-bb0bd7fef09d",
   "metadata": {},
   "outputs": [],
   "source": [
    "third method"
   ]
  },
  {
   "cell_type": "code",
   "execution_count": null,
   "id": "7abeb441-d644-4719-801a-a1804eaf52cc",
   "metadata": {},
   "outputs": [
    {
     "name": "stdout",
     "output_type": "stream",
     "text": [
      "operation.\n",
      "1.Add\n",
      "2.Subtract\n",
      "3.Multiply\n",
      "4.Divide\n",
      "5.Bodmas\n"
     ]
    }
   ],
   "source": [
    "def add(x, y):\n",
    "    return x + y\n",
    "\n",
    "def subtract(x, y):\n",
    "    return x - y\n",
    "\n",
    "def multiply(x, y):\n",
    "    return x * y\n",
    "\n",
    "def divide(x, y):\n",
    "    return x / y\n",
    "def bodmas(a,b,c,d):\n",
    "    return a*b+c-d\n",
    "\n",
    "print(\"operation.\")\n",
    "print(\"1.Add\")\n",
    "print(\"2.Subtract\")\n",
    "print(\"3.Multiply\")\n",
    "print(\"4.Divide\")\n",
    "print(\"5.Bodmas\")\n",
    "\n",
    "while True:\n",
    "    # take input from the user\n",
    "    c = input(\"Enter choice(1/2/3/4): \")\n",
    "\n",
    "    if c in ('1', '2', '3', '4','5'):\n",
    "        num1 = float(input(\"Enter first number: \"))\n",
    "        num2 = float(input(\"Enter second number: \"))\n",
    "\n",
    "        if choice == '1':\n",
    "            print(num1, \"+\", num2, \"=\", add(num1, num2))\n",
    "\n",
    "        elif choice == '2':\n",
    "            print(num1, \"-\", num2, \"=\", subtract(num1, num2))\n",
    "\n",
    "        elif choice == '3':\n",
    "            print(num1, \"*\", num2, \"=\", multiply(num1, num2))\n",
    "\n",
    "        elif choice == '4':\n",
    "            print(num1, \"/\", num2, \"=\", divide(num1, num2))\n",
    "\n",
    "        elif choice == '5':\n",
    "            num3 = float(input(\"Enter first number: \"))\n",
    "            num4 = float(input(\"Enter second number: \"))            \n",
    "            print(num1, \"*\", num2, \"+\", num3, \"-\", num4,  \"=\", divide(num1, num2,num3,num4))\n",
    "        \n",
    "\n",
    "        next_calculation = input(\"next calculation? (yes/no): \")\n",
    "        if next_calculation == \"no\":\n",
    "          break\n",
    "    \n",
    "    else:\n",
    "        print(\"Invalid Input\")"
   ]
  }
 ],
 "metadata": {
  "kernelspec": {
   "display_name": "Python 3",
   "language": "python",
   "name": "python3"
  },
  "language_info": {
   "codemirror_mode": {
    "name": "ipython",
    "version": 3
   },
   "file_extension": ".py",
   "mimetype": "text/x-python",
   "name": "python",
   "nbconvert_exporter": "python",
   "pygments_lexer": "ipython3",
   "version": "3.8.8"
  }
 },
 "nbformat": 4,
 "nbformat_minor": 5
}
