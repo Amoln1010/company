{
 "cells": [
  {
   "cell_type": "markdown",
   "id": "43b628bd-dc25-4e97-8cde-36272c058b51",
   "metadata": {},
   "source": [
    "### Q3"
   ]
  },
  {
   "cell_type": "markdown",
   "id": "942d0584-84cf-425a-b638-df8ac9e371fd",
   "metadata": {},
   "source": [
    "3. Provide a program to calculate the time and distance based on\n",
    "below problem.\n",
    "• We have a 100-meter rod.\n",
    "• At both ends, 1-1 cockroach is place.\n",
    "• The left cockroach moves at 1 meter per second forward, and every 10 seconds moves 2\n",
    "meters backward.\n",
    "• The right cockroach moves at 2 meters per second forward, and every 5 seconds moves 1\n",
    "meter backward.\n",
    "• When both cockroaches meet, we have to calculate the time and distance. Calculate the total\n",
    "time to complete the 100 meter rod.\n"
   ]
  },
  {
   "cell_type": "code",
   "execution_count": 2,
   "id": "5b529fd4-ea0d-443e-9f0e-ddf909c32f3b",
   "metadata": {},
   "outputs": [
    {
     "name": "stdout",
     "output_type": "stream",
     "text": [
      "1st cockroach total time for completing 100m = 125 sec\n",
      "2st cockroach total time for completing 100m = 56 sec\n",
      "When both cockroaches meet time = 38.674033149171265 sec\n",
      "When both cockroaches meet distance for 1st cockroach = 30.939226519337012 m\n",
      "When both cockroaches meet distance for 2st cockroach = 69.06077348066297 m\n"
     ]
    }
   ],
   "source": [
    "m=100 # total distance\n",
    "d=0  #distance will cove by 1st cockroach\n",
    "t=0 #time form 1st cockroach\n",
    "\n",
    "while d<=m:\n",
    "    d=d+1\n",
    "    t=t+1\n",
    "    if t%10==0:\n",
    "        d=d-2\n",
    "print(\"1st cockroach total time for completing 100m =\",t,\"sec\")\n",
    "di=0  #distance will cove by 2st cockroach\n",
    "t1=0   #time form 2st cockroach\n",
    "while di<=m:\n",
    "    di=di+2\n",
    "    t1=t1+1\n",
    "    if t1%5==0:\n",
    "        di=di-1\n",
    "print(\"2st cockroach total time for completing 100m =\",t1,\"sec\")\n",
    "s1=m/t   #speed of 1st cockroach\n",
    "s2=m/t1  #speed of 2st cockroach\n",
    "time=m/(s1+s2)\n",
    "print(\"When both cockroaches meet time =\" , time,\"sec\")\n",
    "dist1=s1*time\n",
    "dist2=s2*time\n",
    "print(\"When both cockroaches meet distance for 1st cockroach =\",dist1,\"m\")\n",
    "print(\"When both cockroaches meet distance for 2st cockroach =\",dist2,\"m\")\n"
   ]
  },
  {
   "cell_type": "code",
   "execution_count": null,
   "id": "99d50351-2d98-4840-a279-2a1c00930bce",
   "metadata": {},
   "outputs": [],
   "source": []
  }
 ],
 "metadata": {
  "kernelspec": {
   "display_name": "Python 3",
   "language": "python",
   "name": "python3"
  },
  "language_info": {
   "codemirror_mode": {
    "name": "ipython",
    "version": 3
   },
   "file_extension": ".py",
   "mimetype": "text/x-python",
   "name": "python",
   "nbconvert_exporter": "python",
   "pygments_lexer": "ipython3",
   "version": "3.8.8"
  }
 },
 "nbformat": 4,
 "nbformat_minor": 5
}
