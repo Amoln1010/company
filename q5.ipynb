{
 "cells": [
  {
   "cell_type": "markdown",
   "id": "a9597e33-db90-4e40-a9d2-130eb30c0cfb",
   "metadata": {},
   "source": [
    "5. Provide a program to create tables (Employee, Department,\n",
    "Project) in database Sqlite and insert the data.\n",
    "• Make sure to add basic field, with employee to department and project relation.\n",
    "• Make sure maintain M2M relation between employee and project."
   ]
  },
  {
   "cell_type": "code",
   "execution_count": 1,
   "id": "83b8f879-69e7-4b6d-b4cc-e7f12b029ddb",
   "metadata": {},
   "outputs": [],
   "source": [
    "import pymysql as pm"
   ]
  },
  {
   "cell_type": "code",
   "execution_count": 19,
   "id": "d719c03c-dde7-4e93-860e-664c34017f5d",
   "metadata": {},
   "outputs": [
    {
     "data": {
      "text/plain": [
       "0"
      ]
     },
     "execution_count": 19,
     "metadata": {},
     "output_type": "execute_result"
    }
   ],
   "source": [
    "import pymysql as pm\n",
    "\n",
    "db = pm.connect(host=\"localhost\",\n",
    "                user=\"root\",\n",
    "                password=\"\",\n",
    "                database=\"taskmaster\",)\n",
    "\n",
    "mycursor =db.cursor()\n",
    "\n",
    "mycursor.execute(\"create table employee (empid int NOT NULL PRIMARY KEY,empname VARCHAR(255), address VARCHAR(255),empmobile int)\")\n",
    "\n",
    "mycursor.execute(\"create table department(depid int,department_name VARCHAR(255))\")\n",
    "\n",
    "mycursor.execute(\"create table project(projectid int,projectname VARCHAR(255))\")"
   ]
  },
  {
   "cell_type": "code",
   "execution_count": 34,
   "id": "0c7259c7-556b-4ba9-b039-1ce831e71c58",
   "metadata": {},
   "outputs": [
    {
     "data": {
      "text/plain": [
       "3"
      ]
     },
     "execution_count": 34,
     "metadata": {},
     "output_type": "execute_result"
    }
   ],
   "source": [
    "import pymysql as pm\n",
    "\n",
    "db = pm.connect(host=\"localhost\",\n",
    "                user=\"root\",\n",
    "                password=\"\",\n",
    "                database=\"taskmaster\")\n",
    "\n",
    "mycursor =db.cursor()\n",
    "sql = \"INSERT INTO employee (empid, empname,address,empmobile) VALUES (%s, %s,%s,%s)\"\n",
    "val = [\n",
    "(1,'Mahesh','Mumbai',8596741230),\n",
    "(2,'Vikram','Satara',7894561230),\n",
    "(3,'Tanaji',\"Kolhapur\",7895463201)\n",
    "]\n",
    "\n",
    "mycursor.executemany(sql, val)"
   ]
  },
  {
   "cell_type": "code",
   "execution_count": 35,
   "id": "dfbbdde7-8e00-4bcd-9303-e9934337a2ca",
   "metadata": {},
   "outputs": [
    {
     "data": {
      "text/plain": [
       "3"
      ]
     },
     "execution_count": 35,
     "metadata": {},
     "output_type": "execute_result"
    }
   ],
   "source": [
    "import pymysql as pm\n",
    "\n",
    "db = pm.connect(host=\"localhost\",\n",
    "                user=\"root\",\n",
    "                password=\"\",\n",
    "                database=\"taskmaster\")\n",
    "\n",
    "mycursor =db.cursor()\n",
    "sql = \"INSERT INTO department (depid, department_name) VALUES (%s, %s)\"\n",
    "val = [\n",
    "(1,'Manager'),\n",
    "(2,'Executive'),\n",
    "(3,'Lead')\n",
    "]\n",
    "\n",
    "mycursor.executemany(sql, val)"
   ]
  },
  {
   "cell_type": "code",
   "execution_count": 37,
   "id": "b4a49c00-0b9b-41bc-ae41-f1bf8ca5b533",
   "metadata": {},
   "outputs": [
    {
     "data": {
      "text/plain": [
       "3"
      ]
     },
     "execution_count": 37,
     "metadata": {},
     "output_type": "execute_result"
    }
   ],
   "source": [
    "import pymysql as pm\n",
    "\n",
    "db = pm.connect(host=\"localhost\",\n",
    "                user=\"root\",\n",
    "                password=\"\",\n",
    "                database=\"taskmaster\")\n",
    "\n",
    "mycursor =db.cursor()\n",
    "sql = \"INSERT INTO project (projectid, projectname) VALUES (%s, %s)\"\n",
    "val = [\n",
    "(1,'Gizmo'),\n",
    "(2,'Powergizmo'),\n",
    "(3,'SingleTouch')\n",
    "]\n",
    "\n",
    "mycursor.executemany(sql, val)"
   ]
  },
  {
   "cell_type": "code",
   "execution_count": 47,
   "id": "e3de6cf2-c5cd-455d-b0a9-333226ed5867",
   "metadata": {},
   "outputs": [
    {
     "name": "stdout",
     "output_type": "stream",
     "text": [
      "executed\n"
     ]
    }
   ],
   "source": [
    "import pymysql as pm\n",
    "\n",
    "db = pm.connect(host=\"localhost\",\n",
    "                user=\"root\",\n",
    "                password=\"\",\n",
    "                database=\"taskmaster\",)\n",
    "\n",
    "mycursor =db.cursor()\n",
    "\n",
    "sql = \"SELECT \\\n",
    "  employee.empname AS employee, \\\n",
    "  project.projectname AS project \\\n",
    "  FROM employee \\\n",
    "  INNER JOIN project ON employee.empid = project.projectid\"\n",
    "\n",
    "mycursor.execute(sql)\n",
    "\n",
    "myresult = mycursor.fetchall()\n",
    "\n",
    "for x in myresult:\n",
    "  print(x)\n",
    "print(\"executed\")"
   ]
  },
  {
   "cell_type": "code",
   "execution_count": null,
   "id": "4dc34c9c-be14-4182-9bc5-3e8e7f2b1f41",
   "metadata": {},
   "outputs": [],
   "source": []
  }
 ],
 "metadata": {
  "kernelspec": {
   "display_name": "Python 3",
   "language": "python",
   "name": "python3"
  },
  "language_info": {
   "codemirror_mode": {
    "name": "ipython",
    "version": 3
   },
   "file_extension": ".py",
   "mimetype": "text/x-python",
   "name": "python",
   "nbconvert_exporter": "python",
   "pygments_lexer": "ipython3",
   "version": "3.8.8"
  }
 },
 "nbformat": 4,
 "nbformat_minor": 5
}
